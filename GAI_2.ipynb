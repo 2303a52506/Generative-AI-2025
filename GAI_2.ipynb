{
  "nbformat": 4,
  "nbformat_minor": 0,
  "metadata": {
    "colab": {
      "provenance": [],
      "include_colab_link": true
    },
    "kernelspec": {
      "name": "python3",
      "display_name": "Python 3"
    },
    "language_info": {
      "name": "python"
    }
  },
  "cells": [
    {
      "cell_type": "markdown",
      "metadata": {
        "id": "view-in-github",
        "colab_type": "text"
      },
      "source": [
        "<a href=\"https://colab.research.google.com/github/2303a52506/Generative-AI-2025/blob/main/GAI_2.ipynb\" target=\"_parent\"><img src=\"https://colab.research.google.com/assets/colab-badge.svg\" alt=\"Open In Colab\"/></a>"
      ]
    },
    {
      "cell_type": "markdown",
      "source": [
        "QUESTION:1\n"
      ],
      "metadata": {
        "id": "cfLLgAYwpYpV"
      }
    },
    {
      "cell_type": "code",
      "execution_count": null,
      "metadata": {
        "colab": {
          "base_uri": "https://localhost:8080/"
        },
        "id": "BgJ7JkYxooKl",
        "outputId": "e64ec345-0849-4601-9fea-298ee3ec6e53"
      },
      "outputs": [
        {
          "output_type": "stream",
          "name": "stdout",
          "text": [
            "Case Study 1 - Chocolate Manufacturing\n",
            "Optimal Solution:\n",
            "Chocolate A: 2.00 units\n",
            "Chocolate B: 3.00 units\n",
            "Maximum Profit: Rs 27.00\n",
            "\n"
          ]
        }
      ],
      "source": [
        "from scipy.optimize import linprog\n",
        "profit_chocolates = [-6, -5]\n",
        "lhs_inequalities_chocolates = [\n",
        "    [1, 1],\n",
        "    [3, 2]\n",
        "]\n",
        "\n",
        "rhs_inequalities_chocolates = [5, 12]\n",
        "\n",
        "\n",
        "bounds_chocolates = [(0, None), (0, None)]\n",
        "\n",
        "\n",
        "result_chocolates = linprog(profit_chocolates, A_ub=lhs_inequalities_chocolates, b_ub=rhs_inequalities_chocolates, bounds=bounds_chocolates, method='highs')\n",
        "\n",
        "print(\"Case Study 1 - Chocolate Manufacturing\")\n",
        "print(\"Optimal Solution:\")\n",
        "print(f\"Chocolate A: {result_chocolates.x[0]:.2f} units\")\n",
        "print(f\"Chocolate B: {result_chocolates.x[1]:.2f} units\")\n",
        "print(f\"Maximum Profit: Rs {-result_chocolates.fun:.2f}\\n\")\n",
        "\n"
      ]
    },
    {
      "cell_type": "markdown",
      "source": [
        "QUESTION:2\n"
      ],
      "metadata": {
        "id": "Sjh285QFpTwl"
      }
    },
    {
      "cell_type": "code",
      "source": [
        "profit_farming = [-50, -120]\n",
        "lhs_inequalities_farming = [\n",
        "    [1, 1],\n",
        "    [10, 30]\n",
        "]\n",
        "rhs_inequalities_farming = [110, 1200]\n",
        "bounds_farming = [(0, None), (0, None)]\n",
        "result_farming = linprog(profit_farming, A_ub=lhs_inequalities_farming, b_ub=rhs_inequalities_farming, bounds=bounds_farming, method='highs')\n",
        "print(\"Case Study 2 - Farming Optimization\")\n",
        "print(\"Optimal Solution:\")\n",
        "print(f\"Wheat: {result_farming.x[0]:.2f} hectares\")\n",
        "print(f\"Barley: {result_farming.x[1]:.2f} hectares\")\n",
        "print(f\"Maximum Profit: Rs {-result_farming.fun:.2f}\")\n"
      ],
      "metadata": {
        "colab": {
          "base_uri": "https://localhost:8080/"
        },
        "id": "nAAzQUOMpPzO",
        "outputId": "b5d618f9-9792-4139-8543-9aad6a97a619"
      },
      "execution_count": null,
      "outputs": [
        {
          "output_type": "stream",
          "name": "stdout",
          "text": [
            "Case Study 2 - Farming Optimization\n",
            "Optimal Solution:\n",
            "Wheat: 105.00 hectares\n",
            "Barley: 5.00 hectares\n",
            "Maximum Profit: Rs 5850.00\n"
          ]
        }
      ]
    }
  ]
}