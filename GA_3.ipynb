{
  "nbformat": 4,
  "nbformat_minor": 0,
  "metadata": {
    "colab": {
      "provenance": [],
      "authorship_tag": "ABX9TyOQUU3ULQOFKQHI7r1j1Vp+",
      "include_colab_link": true
    },
    "kernelspec": {
      "name": "python3",
      "display_name": "Python 3"
    },
    "language_info": {
      "name": "python"
    }
  },
  "cells": [
    {
      "cell_type": "markdown",
      "metadata": {
        "id": "view-in-github",
        "colab_type": "text"
      },
      "source": [
        "<a href=\"https://colab.research.google.com/github/2303a52506/Generative-AI-2025/blob/main/GA_3.ipynb\" target=\"_parent\"><img src=\"https://colab.research.google.com/assets/colab-badge.svg\" alt=\"Open In Colab\"/></a>"
      ]
    },
    {
      "cell_type": "markdown",
      "source": [
        "QUESTION:1"
      ],
      "metadata": {
        "id": "FXe41D8lxgPe"
      }
    },
    {
      "cell_type": "code",
      "execution_count": 9,
      "metadata": {
        "colab": {
          "base_uri": "https://localhost:8080/"
        },
        "id": "Gp80Efl2xNow",
        "outputId": "fc63eecd-fd9f-480a-d6f7-5c3c995eae96"
      },
      "outputs": [
        {
          "output_type": "stream",
          "name": "stdout",
          "text": [
            "The value of x that minimizes f(x) is: 5.963540395046457e-28\n"
          ]
        }
      ],
      "source": [
        "def derivative(x):\n",
        "    return 20 * x**3 + 6 * x\n",
        "def gradient_descent(learning_rate, iterations, initial_x):\n",
        "    x = initial_x\n",
        "    for _ in range(iterations):\n",
        "        grad = derivative(x)\n",
        "        x = x - learning_rate * grad\n",
        "    return x\n",
        "learning_rate = 0.01\n",
        "iterations = 1000\n",
        "initial_x = 1.0\n",
        "x_min = gradient_descent(learning_rate, iterations, initial_x)\n",
        "print(\"The value of x that minimizes f(x) is:\", x_min)\n"
      ]
    },
    {
      "cell_type": "markdown",
      "source": [
        "QUESTION:2"
      ],
      "metadata": {
        "id": "iGmMggegxnmd"
      }
    },
    {
      "cell_type": "code",
      "source": [
        "def derivative_x(x):\n",
        "    return 6 * x\n",
        "def derivative_y(y):\n",
        "    return -5 * (2.71828 ** -y)\n",
        "def gradient_descent(learning_rate, iterations, initial_x, initial_y):\n",
        "    x, y = initial_x, initial_y\n",
        "    for _ in range(iterations):\n",
        "        grad_x = derivative_x(x)\n",
        "        grad_y = derivative_y(y)\n",
        "        x = x - learning_rate * grad_x\n",
        "        y = y - learning_rate * grad_y\n",
        "    return x, y\n",
        "learning_rate = 0.01\n",
        "iterations = 1000\n",
        "initial_x, initial_y = 1.0, 1.0\n",
        "x_min, y_min = gradient_descent(learning_rate, iterations, initial_x, initial_y)\n",
        "print(\"The values of x and y that minimize g(x, y) are:\", x_min, y_min)\n"
      ],
      "metadata": {
        "colab": {
          "base_uri": "https://localhost:8080/"
        },
        "id": "4-zxcWesxpd1",
        "outputId": "4a27f0c4-2393-434f-dbb1-c262b47b2c9e"
      },
      "execution_count": 7,
      "outputs": [
        {
          "output_type": "stream",
          "name": "stdout",
          "text": [
            "The values of x and y that minimize g(x, y) are: 1.3423123924933694e-27 3.966372788969171\n"
          ]
        }
      ]
    },
    {
      "cell_type": "markdown",
      "source": [
        "QUESTION:3"
      ],
      "metadata": {
        "id": "9A4nEZr_z7_l"
      }
    },
    {
      "cell_type": "code",
      "source": [
        "def sigmoid_derivative(x):\n",
        "    sig_x = 1 / (1 + 2.71828**-x)\n",
        "    return sig_x * (1 - sig_x)\n",
        "def gradient_descent(learning_rate, iterations, initial_x):\n",
        "    x = initial_x\n",
        "    for _ in range(iterations):\n",
        "        grad = sigmoid_derivative(x)\n",
        "        x = x - learning_rate * grad\n",
        "    return x\n",
        "learning_rate = 0.1\n",
        "iterations = 1000\n",
        "initial_x = 0.0\n",
        "x_min = gradient_descent(learning_rate, iterations, initial_x)\n",
        "print(\"The value of x that minimizes z(x) is:\", x_min)"
      ],
      "metadata": {
        "colab": {
          "base_uri": "https://localhost:8080/"
        },
        "id": "lGfZa9_E0Ail",
        "outputId": "a5112697-69e8-4570-ac94-fe890dfefcab"
      },
      "execution_count": 5,
      "outputs": [
        {
          "output_type": "stream",
          "name": "stdout",
          "text": [
            "The value of x that minimizes z(x) is: -4.512438801965497\n"
          ]
        }
      ]
    },
    {
      "cell_type": "markdown",
      "source": [
        "QUESTION:4"
      ],
      "metadata": {
        "id": "dQ9kYaZx0ZI-"
      }
    },
    {
      "cell_type": "code",
      "source": [
        "def squared_error(m, c, input_value, expected_output):\n",
        "    predicted_output = m * input_value + c\n",
        "    return (expected_output - predicted_output) ** 2\n",
        "def derivatives(m, c, input_value, expected_output):\n",
        "    predicted_output = m * input_value + c\n",
        "    error = expected_output - predicted_output\n",
        "    d_m = -2 * input_value * error\n",
        "    d_c = -2 * error\n",
        "    return d_m, d_c\n",
        "def gradient_descent(learning_rate, iterations, input_value, expected_output):\n",
        "    m, c = 0.0, 0.0\n",
        "    for _ in range(iterations):\n",
        "        d_m, d_c = derivatives(m, c, input_value, expected_output)\n",
        "        m = m - learning_rate * d_m\n",
        "        c = c - learning_rate * d_c\n",
        "    return m, c\n",
        "learning_rate = 0.01\n",
        "iterations = 1000\n",
        "input_value = 2\n",
        "expected_output = 0.5\n",
        "optimal_m, optimal_c = gradient_descent(learning_rate, iterations, input_value, expected_output)\n",
        "print(\"Optimal M:\", optimal_m)\n",
        "print(\"Optimal C:\", optimal_c)"
      ],
      "metadata": {
        "colab": {
          "base_uri": "https://localhost:8080/"
        },
        "id": "keyfRCAj0b0d",
        "outputId": "e72450ac-ef88-4c21-976a-2507cea5f43f"
      },
      "execution_count": 10,
      "outputs": [
        {
          "output_type": "stream",
          "name": "stdout",
          "text": [
            "Optimal M: 0.19999999999999987\n",
            "Optimal C: 0.09999999999999994\n"
          ]
        }
      ]
    },
    {
      "cell_type": "code",
      "source": [
        "import sympy as sp\n",
        "x, y = sp.symbols('x y')\n",
        "f = 3 * x**2 + 5 * sp.exp(-y) + 10\n",
        "f_prime_x = sp.diff(f, x)\n",
        "f_prime_y = sp.diff(f, y)\n",
        "print(f\"f'_x(x, y) = {f_prime_x}\")\n",
        "print(f\"f'_y(x, y) = {f_prime_y}\")\n",
        "def gradient_descent_2d(f_prime_x, f_prime_y, initial_x, initial_y, learning_rate, tolerance, max_iterations):\n",
        "\n",
        "    x_val, y_val = initial_x, initial_y\n",
        "    for i in range(max_iterations):\n",
        "        grad_x = f_prime_x.subs({x: x_val, y: y_val})\n",
        "        grad_y = f_prime_y.subs({x: x_val, y: y_val})\n",
        "        new_x = x_val - learning_rate * grad_x\n",
        "        new_y = y_val - learning_rate * grad_y\n",
        "        if abs(new_x - x_val) < tolerance and abs(new_y - y_val) < tolerance:\n",
        "            return (new_x, new_y), i + 1\n",
        "        x_val, y_val = new_x, new_y\n",
        "    return (x_val, y_val), max_iterations\n",
        "\n",
        "\n",
        "initial_x = 0\n",
        "initial_y = 0\n",
        "learning_rate = 0.1\n",
        "tolerance = 1e-6\n",
        "max_iterations = 1000\n",
        "\n",
        "\n",
        "min_values, iterations = gradient_descent_2d(f_prime_x, f_prime_y, initial_x, initial_y, learning_rate, tolerance, max_iterations)\n",
        "print(f\"The minimum value is at x = {min_values[0]}, y = {min_values[1]}, found in {iterations} iterations.\")"
      ],
      "metadata": {
        "colab": {
          "base_uri": "https://localhost:8080/"
        },
        "id": "_muAZyrI51EG",
        "outputId": "80d69b6f-d26b-434e-ab90-84a07e73ec11"
      },
      "execution_count": 18,
      "outputs": [
        {
          "output_type": "stream",
          "name": "stdout",
          "text": [
            "f'_x(x, y) = 6*x\n",
            "f'_y(x, y) = -5*exp(-y)\n",
            "The minimum value is at x = 0, y = 6.21980920407898, found in 1000 iterations.\n"
          ]
        }
      ]
    }
  ]
}